{
  "nbformat": 4,
  "nbformat_minor": 0,
  "metadata": {
    "colab": {
      "name": "Copy of P7_01_notebook.ipynb",
      "provenance": [],
      "collapsed_sections": [
        "d_P197m4xWZ6"
      ],
      "toc_visible": true,
      "machine_shape": "hm"
    },
    "kernelspec": {
      "display_name": "Python 3",
      "name": "python3"
    }
  },
  "cells": [
    {
      "cell_type": "markdown",
      "metadata": {
        "id": "c1r4IUN-FPSu"
      },
      "source": [
        "<center> <h1><b>Implémentez un modèle de scoring</h1> \n",
        "\n",
        "\n",
        "Projet 7 du parcous **Data Scientist** d'OpenClassrooms</center>\n"
      ]
    },
    {
      "cell_type": "markdown",
      "metadata": {
        "id": "FG6MMPmL8J9D"
      },
      "source": [
        "\n",
        "\n",
        "---\n",
        "---\n",
        "\n",
        "\n",
        "\n",
        "\n",
        "\n"
      ]
    },
    {
      "cell_type": "markdown",
      "metadata": {
        "id": "w7U9tVx4IIzB"
      },
      "source": [
        "<h2>Auteur</h2>\n",
        "\n",
        "<p><a href=\"https://www.linkedin.com/khalil-henchi\" target=\"_blank\" rel=\"external\">Khalil Henchi</a></p>"
      ]
    },
    {
      "cell_type": "markdown",
      "metadata": {
        "id": "TRTuWgvhLiv7"
      },
      "source": [
        "# 1. Présentation du projet \n",
        "<a class=\"anchor\" id=\"title1\"></a> "
      ]
    },
    {
      "cell_type": "markdown",
      "metadata": {
        "id": "NYdZSoVFMQqf"
      },
      "source": [
        "### 1.1 Contexte\n",
        "<a class=\"anchor\" id=\"title2\"></a>\n",
        "Je me présente Khalil Henchi. Je suis Data Scientist au sein de la société financière **Prêt à dépenser**. \n",
        " \n",
        "> Notre société propose des crédits à la consommation pour des personnes ayant peu ou pas du tout d'historique de prêt."
      ]
    },
    {
      "cell_type": "markdown",
      "metadata": {
        "id": "P15Y_umKi4fA"
      },
      "source": [
        "![logo.png](data:image/png;base64,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)"
      ]
    },
    {
      "cell_type": "markdown",
      "metadata": {
        "id": "2huUKh5DzE9q"
      },
      "source": [
        "L’entreprise souhaite **développer un modèle de scoring de la probabilité de défaut de paiement du client** pour étayer la décision d'accorder ou non un prêt à un client potentiel en s’appuyant sur des sources de données variées (données comportementales, données provenant d'autres institutions financières, etc.).\n",
        "\n",
        "De plus, les chargés de relation client ont fait remonter le fait que les clients sont de plus en plus demandeurs de **transparence** vis-à-vis des décisions d’octroi de crédit. Cette demande de transparence des clients va tout à fait dans le sens des valeurs que l’entreprise veut incarner.\n",
        "\n",
        "Elle décide donc de développer un dashboard interactif pour que les chargés de relation client puissent à la fois expliquer de façon la plus transparente possible les décisions d’octroi de crédit, mais également permettre à leurs clients de disposer de leurs informations personnelles et de les explorer facilement. "
      ]
    },
    {
      "cell_type": "markdown",
      "metadata": {
        "id": "96vHqskO02Ub"
      },
      "source": [
        "**Les données**\n",
        "\n",
        "> Voici [les données](https://www.kaggle.com/c/home-credit-default-risk/data) dont vous aurez besoin pour réaliser le dashboard. Pour plus de simplicité, vous pouvez les télécharger à [cette adresse](https://s3-eu-west-1.amazonaws.com/static.oc-static.com/prod/courses/files/Parcours_data_scientist/Projet+-+Impl%C3%A9menter+un+mod%C3%A8le+de+scoring/Projet+Mise+en+prod+-+home-credit-default-risk.zip).\n",
        "\n"
      ]
    },
    {
      "cell_type": "markdown",
      "metadata": {
        "id": "wc0WF0cC9hLd"
      },
      "source": [
        "### 1.2 Présentation de la Problématique\n",
        "<a class=\"anchor\" id=\"title3\"></a>"
      ]
    },
    {
      "cell_type": "markdown",
      "metadata": {
        "id": "K6o-4SKZ1Ith"
      },
      "source": [
        "**Mes missions**\n",
        "\n",
        "Durant ce projet, mes missions principales sont : \n",
        "\n",
        "1. Construire un modèle de scoring qui donnera une prédiction sur la probabilité de faillite d'un client de façon automatique.\n",
        "\n",
        "2. Construire un dashboard interactif à destination des gestionnaires de la relation client permettant d'interpréter les prédictions faites par le modèle et d’améliorer la connaissance client des chargés de relation client."
      ]
    },
    {
      "cell_type": "markdown",
      "metadata": {
        "id": "ywi787GP2a2O"
      },
      "source": [
        "> **Attention** : \n",
        "\n",
        ">**Michaël**, mon manager, m'incite à sélectionner un kernel Kaggle pour me faciliter la préparation des données nécessaires à l’élaboration du modèle de scoring. J'analyserai ce kernel et l’adapterai pour m'assurer qu’il répond aux besoins de ma mission."
      ]
    },
    {
      "cell_type": "markdown",
      "metadata": {
        "id": "0s3J-2jf2heM"
      },
      "source": [
        "**Cahier des charges**\n",
        "\n",
        "**Michaël** m'a fourni un cahier des charges pour le dashboard interactif. \n",
        "\n",
        "Le dashboard interactif devra à minima contenir les fonctionnalités suivantes :\n",
        "\n",
        "*  Permettre de visualiser le score\n",
        "*  Permettre d’interpréter ce score pour chaque client de façon intelligible pour une personne non experte en data science.\n",
        "*  Permettre de visualiser des informations descriptives relatives à un client via un système de filtre.\n",
        "*  Permettre de comparer les informations descriptives relatives à un client à l’ensemble des clients ou à un groupe de clients similaires."
      ]
    },
    {
      "cell_type": "markdown",
      "metadata": {
        "id": "e5MCfIZr9rIL"
      },
      "source": [
        "---\n",
        "\n",
        "\n",
        "\n",
        "---\n",
        "\n"
      ]
    },
    {
      "cell_type": "markdown",
      "metadata": {
        "id": "HhAOBm94Os1S"
      },
      "source": [
        "### 1.3 Livrables attendus\n",
        "<a class=\"anchor\" id=\"title4\"></a>"
      ]
    },
    {
      "cell_type": "markdown",
      "metadata": {
        "id": "lflAN3LFq4oT"
      },
      "source": [
        "*  Le **dashboard interactif** répondant au cahier des charges \n",
        "précisé ci-dessus.\n",
        "*  Un **dossier sur un outil de versioning de code** contenant :\n",
        "  *  Le code de la modélisation (du prétraitement à la prédiction)\n",
        "  *  Le code générant le dashboard\n",
        "  *  Le code permettant de déployer le modèle sous forme d'API\n",
        "*  Une **note méthodologique** décrivant :\n",
        "  *  La méthodologie d'entraînement du modèle\n",
        "  *  La fonction coût, l'algorithme d'optimisation et la métrique d'évaluation\n",
        "  *  L’interprétabilité du modèle\n",
        "  *  Les limites et les améliorations possibles\n",
        "*  Un support de présentation pour la soutenance.\n",
        "\n"
      ]
    },
    {
      "cell_type": "markdown",
      "metadata": {
        "id": "h9uB_pQvq--5"
      },
      "source": [
        "> Pour faciliter votre passage au jury, déposez sur la plateforme, dans un dossier nommé **P7_nom_prenom**, tous les livrables du projet. \n",
        "\n",
        "> Chaque livrable doit être nommé avec le numéro du projet et selon l'ordre dans lequel il apparaît, par exemple : \n",
        "*   **P7_01_dashboard** \n",
        "*   **P7_02_dossier**\n",
        "*   **P7_03_note**\n",
        "*   **P7_04_support**\n",
        "*   et ainsi de suite.\n",
        "\n",
        "\n"
      ]
    },
    {
      "cell_type": "markdown",
      "metadata": {
        "id": "YFrznT_SPZxU"
      },
      "source": [
        "### 1.4 Modalités de la soutenance\n",
        "<a class=\"anchor\" id=\"title5\"></a>"
      ]
    },
    {
      "cell_type": "markdown",
      "metadata": {
        "id": "N2p6Ube4PUI0"
      },
      "source": [
        "* Rappel de la problématique et présentation du jeu de données **5 min** \n",
        "* Explication de l’approche de modélisation **7 min** \n",
        "* Présentation du dashboard **15 min** \n",
        "* Questions et réponses. **5-10 min** \n",
        "\n",
        "> J'ai **27 min** pour la présentation "
      ]
    },
    {
      "cell_type": "markdown",
      "metadata": {
        "id": "HAbPPfsU0phE"
      },
      "source": [
        "### 1.5 Compétences évaluées\n",
        "\n",
        "<a class=\"anchor\" id=\"title5\"></a>"
      ]
    },
    {
      "cell_type": "markdown",
      "metadata": {
        "id": "-sw2tvHT6HHa"
      },
      "source": [
        "Pendant ce projet, les compétences suivantes seraient évaluées par le jury évaluateur.\n",
        "\n",
        "\n",
        "***Compétences évaluées***\n",
        "\n",
        "* **Présenter son travail de modélisation à l'oral**\n",
        "* **Déployer un modèle via une API dans le Web**\n",
        "* **Utiliser un logiciel de version de code pour assurer l’intégration du modèle**\n",
        "* **Rédiger une note méthodologique afin de communiquer sa démarche de modélisation**\n",
        "* **Réaliser un dashboard pour présenter son travail de modélisation**"
      ]
    },
    {
      "cell_type": "markdown",
      "metadata": {
        "id": "K1AKQmB2S3Yl"
      },
      "source": [
        "\n",
        "\n",
        "---\n",
        "\n",
        "\n",
        "\n",
        "---\n",
        "\n"
      ]
    },
    {
      "cell_type": "markdown",
      "metadata": {
        "id": "1JAaLf2gRoiz"
      },
      "source": [
        "# 2. Environnement et chargement des librairies\n",
        "<a class=\"anchor\" id=\"title11\"></a>"
      ]
    },
    {
      "cell_type": "markdown",
      "metadata": {
        "id": "_ZE7Q3YuXQ40"
      },
      "source": [
        "### 2.1 Préparation de l'environnement de travail\n",
        "<a class=\"anchor\" id=\"title12\"></a>"
      ]
    },
    {
      "cell_type": "markdown",
      "metadata": {
        "id": "vnskEvMluAyt"
      },
      "source": [
        "J'ai déja installer python3 sur mon PC. Et j'ai installé le librairie \"virtualenv\" aussi en utilisant \n",
        "\n",
        "Linux Terminal\n",
        "```\n",
        "$ pip3 install virtualenv\n",
        "```\n",
        "\n",
        "\n",
        "1. Créer un nouveau environement virtuel\n",
        "\n",
        "Linux Terminal\n",
        "\n",
        "```\n",
        "$ cd /Documents/My_OC_DS_Formation/\n",
        "$ mkdir P7\n",
        "$ cd P7\n",
        "$ virtualenv -p python3 .\n",
        "```\n",
        "\n",
        "2. Activer l'environement virtuel\n",
        "\n",
        "Linux Terminal\n",
        "```\n",
        "$ source bin/activate\n",
        "```\n",
        "3. Installer Jupyter notebook\n",
        "\n",
        "Linux Terminal\n",
        "```\n",
        "(P7) $ python -V\n",
        "Python 3.8.5\n",
        "(P7) $ pip install jupyter notebook\n",
        "```\n",
        "\n",
        "4. Démarer Jupyter notebook\n",
        "\n",
        "Linux Terminal\n",
        "```\n",
        "(P7) $ jupyter notebook\n",
        "```\n",
        "Une page web s'ouvrira dans le navigateur avec Jupyter Notebook prêt.\n",
        "\n",
        "5. Commencer le travail\n",
        "\n",
        "Créer un nouveau notebook, définir son nom. \n",
        "\n",
        "Commencer à coder et installer les librairies nécessaires au fur et à mesure.  \n",
        "\n",
        "Utiliser la commande suivante pour installer une librairie soit directement dans le terminal or dans les cellules jupyter notebook.\n",
        "\n",
        "Linux Terminal\n",
        "```\n",
        "(P7) $ pip3 install nom_de_librairie\n",
        "```\n",
        "\n",
        "6. Désactiver l'environement virtuel \n",
        "\n",
        "Pour desactiver l'environement virtuel et utiliser l'environement original. Utiliser la commande suivante.\n",
        "\n",
        "Linux Terminal\n",
        "```\n",
        "(P7) $ deactivate\n",
        "```\n",
        "\n",
        "> Pour plus d'informations, vérifier la documentation **virtualenv**."
      ]
    }
  ]
}